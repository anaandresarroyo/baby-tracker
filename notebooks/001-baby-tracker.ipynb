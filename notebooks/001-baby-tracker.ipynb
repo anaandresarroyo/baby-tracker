{
 "cells": [
  {
   "cell_type": "markdown",
   "id": "43a3aaff-4bfe-42c5-8859-a7a2d67e65b4",
   "metadata": {},
   "source": [
    "# Set up notebook"
   ]
  },
  {
   "cell_type": "code",
   "execution_count": null,
   "id": "0e70abfd-af1f-4922-bba2-be5b50f27d62",
   "metadata": {},
   "outputs": [],
   "source": [
    "from pyprojroot import here\n",
    "import numpy as np\n",
    "import pandas as pd\n",
    "from matplotlib import pyplot as plt\n",
    "from matplotlib import ticker as mtick\n",
    "import matplotlib.dates as mdates\n",
    "import seaborn as sns"
   ]
  },
  {
   "cell_type": "code",
   "execution_count": null,
   "id": "2a780175-b6b2-4407-9229-5dfc74b622cc",
   "metadata": {},
   "outputs": [],
   "source": [
    "%matplotlib widget"
   ]
  },
  {
   "cell_type": "markdown",
   "id": "9c69a439-d5b7-4542-b9b7-f2c852677f2a",
   "metadata": {},
   "source": [
    "# Load data"
   ]
  },
  {
   "cell_type": "code",
   "execution_count": null,
   "id": "97c038d3-b4d9-4f10-9f29-9f8e4cff348e",
   "metadata": {},
   "outputs": [],
   "source": [
    "data_dir = here() / \"data\" / \"raw\""
   ]
  },
  {
   "cell_type": "code",
   "execution_count": null,
   "id": "695786a5-0172-4a15-a9b2-3762367bdf77",
   "metadata": {},
   "outputs": [],
   "source": [
    "file_path = data_dir / \"440c0a18-9219-4add-9bb4-ebcdfe1ccadf.csv\"\n",
    "data = pd.read_csv(file_path)"
   ]
  },
  {
   "cell_type": "code",
   "execution_count": null,
   "id": "15b3122f-b81c-4977-8690-f0d1d14b59ff",
   "metadata": {},
   "outputs": [],
   "source": [
    "data[\"Start\"] = pd.to_datetime(data[\"Start\"])\n",
    "data[\"End\"] = pd.to_datetime(data[\"End\"])"
   ]
  },
  {
   "cell_type": "code",
   "execution_count": null,
   "id": "2c809a47-e6ec-4859-871a-c65be43e204f",
   "metadata": {},
   "outputs": [],
   "source": [
    "# Overwrite the duration column\n",
    "# because it is easier to calculate\n",
    "# than to convert the string to timedelta\n",
    "data[\"Duration\"] = data[\"End\"] - data[\"Start\"]\n",
    "data[\"Duration (h)\"] = data[\"Duration\"].dt.seconds / 60 / 60"
   ]
  },
  {
   "cell_type": "code",
   "execution_count": null,
   "id": "018c05c4-22c8-478a-b04e-a52035a46e2e",
   "metadata": {},
   "outputs": [],
   "source": [
    "data.head()"
   ]
  },
  {
   "cell_type": "markdown",
   "id": "7c972b40-8aca-4710-89b0-3ebeee8bd696",
   "metadata": {},
   "source": [
    "# Sleep data"
   ]
  },
  {
   "cell_type": "code",
   "execution_count": null,
   "id": "28cd4b7b-7ce6-42d6-805d-377566849cd1",
   "metadata": {},
   "outputs": [],
   "source": [
    "sleep_data = data[data[\"Type\"] == \"Sleep\"].copy()\n",
    "sleep_data[\"Start Time\"] = sleep_data[\"Start\"].dt.time\n",
    "sleep_data[\"Adjusted Start\"] = sleep_data[\"Start\"] - pd.Timedelta(\"12h\")\n",
    "sleep_data[\"Start Location\"] = sleep_data[\"Start Location\"].str.lower().str.split(\", \")\n",
    "sleep_data[\"Bool\"] = True\n",
    "sleep_data.head()"
   ]
  },
  {
   "cell_type": "code",
   "execution_count": null,
   "id": "4bc3fe8a-034f-44ee-9ba5-7c3f0a87ccfd",
   "metadata": {},
   "outputs": [],
   "source": [
    "fig, ax = plt.subplots(1, 1, figsize=[8, 6])\n",
    "temp = sleep_data.set_index(\"Start Time\")[\"Duration (h)\"]\n",
    "temp.index = pd.to_datetime(temp.index, format=\"%H:%M:%S\")\n",
    "temp.plot(\n",
    "    ax=ax,\n",
    "    marker=\".\",\n",
    "    markersize=10,\n",
    "    linestyle=\"\",\n",
    "    color=\"tab:blue\",\n",
    "    alpha=0.3,\n",
    ")\n",
    "ax.set_ylabel(\"Sleep duration (h)\")\n",
    "ax.set_title(\"One dot per sleep session\")\n",
    "ax.yaxis.set_major_locator(mtick.MultipleLocator(1))\n",
    "ax.xaxis.set_major_formatter(mdates.DateFormatter(\"%H:%M\"))\n",
    "plt.xticks(rotation=90, ha=\"center\")\n",
    "ax.grid(color=\"black\", alpha=0.2, axis=\"both\")\n",
    "fig.tight_layout()"
   ]
  },
  {
   "cell_type": "markdown",
   "id": "b5dac0ab-52cd-4e5d-9752-18ff9779510f",
   "metadata": {},
   "source": [
    "## Aggregate by day"
   ]
  },
  {
   "cell_type": "code",
   "execution_count": null,
   "id": "8bbb4f45-400a-4150-9952-dd7795c6a373",
   "metadata": {},
   "outputs": [],
   "source": [
    "sleep_data_agg = (\n",
    "    sleep_data.set_index(\"Adjusted Start\")\n",
    "    .resample(\"1D\")\n",
    "    .agg(\n",
    "        {\n",
    "            \"Duration (h)\": [\"max\", \"min\", \"mean\", \"median\"],\n",
    "            \"End\": [\"count\"],\n",
    "        }\n",
    "    )\n",
    ")\n",
    "sleep_data_agg.index = sleep_data_agg.index.date\n",
    "sleep_data_agg.sort_index(axis=1).head()"
   ]
  },
  {
   "cell_type": "code",
   "execution_count": null,
   "id": "5976cc4a-661a-4d35-a17e-8d99adfb870c",
   "metadata": {},
   "outputs": [],
   "source": [
    "fig, ax = plt.subplots(1, 1, figsize=[12, 6])\n",
    "sleep_data_agg[(\"Duration (h)\", \"max\")].plot(\n",
    "    ax=ax,\n",
    "    color=\"tab:blue\",\n",
    "    marker=\".\",\n",
    "    markersize=10,\n",
    "    linestyle=\"-\",\n",
    "    linewidth=1,\n",
    "    alpha=0.7,\n",
    ")\n",
    "ax.set_ylim(0)\n",
    "ax.set_ylabel(\"Sleep duration (h)\")\n",
    "ax.set_xlabel(\"Date\")\n",
    "ax.set_title(\"Longest sleep session\")\n",
    "for container in ax.containers:\n",
    "    ax.bar_label(container, fmt=\"%.1f\", padding=3, fontsize=8, alpha=0.8)\n",
    "ax.yaxis.set_major_locator(mtick.MultipleLocator(1))\n",
    "ax.yaxis.set_minor_locator(mtick.MultipleLocator(0.5))\n",
    "ax.xaxis.set_major_locator(mtick.MultipleLocator(7))\n",
    "ax.xaxis.set_minor_locator(mtick.MultipleLocator(1))\n",
    "plt.xticks(rotation=90)\n",
    "ax.grid(color=\"black\", alpha=0.2)\n",
    "ax.grid(color=\"black\", alpha=0.05, which=\"minor\")\n",
    "fig.tight_layout()"
   ]
  },
  {
   "cell_type": "code",
   "execution_count": null,
   "id": "51ff358d-ceda-4df7-a041-a45e488ecd5e",
   "metadata": {},
   "outputs": [],
   "source": [
    "fig, ax = plt.subplots(1, 1, figsize=[12, 6])\n",
    "sleep_data_agg[(\"End\", \"count\")].plot(\n",
    "    ax=ax,\n",
    "    color=\"tab:blue\",\n",
    "    marker=\".\",\n",
    "    markersize=10,\n",
    "    linestyle=\"-\",\n",
    "    linewidth=1,\n",
    "    alpha=0.7,\n",
    ")\n",
    "ax.set_ylim(0)\n",
    "ax.set_ylabel(\"Number of sleep sessions\")\n",
    "ax.set_title(\"Number of sleep session\")\n",
    "ax.set_xlabel(\"Date\")\n",
    "for container in ax.containers:\n",
    "    ax.bar_label(container, fmt=\"%.1f\", padding=3, fontsize=8, alpha=0.8)\n",
    "ax.yaxis.set_major_locator(mtick.MultipleLocator(1))\n",
    "ax.xaxis.set_major_locator(mtick.MultipleLocator(7))\n",
    "ax.xaxis.set_minor_locator(mtick.MultipleLocator(1))\n",
    "plt.xticks(rotation=90)\n",
    "ax.grid(color=\"black\", alpha=0.2)\n",
    "ax.grid(color=\"black\", alpha=0.05, which=\"minor\")\n",
    "fig.tight_layout()"
   ]
  },
  {
   "cell_type": "markdown",
   "id": "16866eb0-a79f-4045-a1b7-80a074728626",
   "metadata": {},
   "source": [
    "## Aggregate by time of day"
   ]
  },
  {
   "cell_type": "code",
   "execution_count": null,
   "id": "ab3a3bbe-dc1a-4f32-8abd-4b73c128572a",
   "metadata": {},
   "outputs": [],
   "source": [
    "time_offset = pd.Timedelta(2, unit=\"h\")\n",
    "time_ranges = [\n",
    "    (\"22:00\", \"2:00\"),\n",
    "    (\"2:00\", \"6:00\"),\n",
    "    (\"6:00\", \"10:00\"),\n",
    "    (\"10:00\", \"14:00\"),\n",
    "    (\"14:00\", \"18:00\"),\n",
    "    (\"18:00\", \"22:00\"),\n",
    "]\n",
    "for tr in time_ranges:\n",
    "    s = (sleep_data[\"Start\"] + time_offset).dt.time\n",
    "    min_time = (pd.to_datetime(tr[0]) + time_offset).time()\n",
    "    max_time = (pd.to_datetime(tr[1]) + time_offset).time()\n",
    "    mask = (s >= min_time) & (s < max_time)\n",
    "    print(mask.sum())"
   ]
  },
  {
   "cell_type": "markdown",
   "id": "5cf9cb11-e581-4285-9535-9ddef2586909",
   "metadata": {},
   "source": [
    "## Resample by start location"
   ]
  },
  {
   "cell_type": "code",
   "execution_count": null,
   "id": "d799cc4c-eb8e-4afc-ac26-61f73af5a578",
   "metadata": {},
   "outputs": [],
   "source": [
    "sleep_data.shape"
   ]
  },
  {
   "cell_type": "code",
   "execution_count": null,
   "id": "fcfadc59-66ee-480c-916e-f491d65b6880",
   "metadata": {},
   "outputs": [],
   "source": [
    "sleep_start_location = (\n",
    "    sleep_data.explode(\"Start Location\")\n",
    "    .pivot(index=\"Start\", columns=\"Start Location\", values=\"Bool\")\n",
    "    .resample(\"W\")\n",
    "    .sum()\n",
    "    .astype(int)\n",
    ")\n",
    "sleep_start_location.index = sleep_start_location.index.date\n",
    "sleep_start_location = sleep_start_location.iloc[:-1, :]\n",
    "sleep_start_location = sleep_start_location.drop(\"nursing\", axis=1)\n",
    "sleep_start_location.shape"
   ]
  },
  {
   "cell_type": "code",
   "execution_count": null,
   "id": "95962ab0-2971-4190-a635-d7faa0f15063",
   "metadata": {},
   "outputs": [],
   "source": [
    "sleep_start_location_pc = (\n",
    "    sleep_start_location.divide(sleep_start_location.sum(axis=1), axis=0) * 100\n",
    ")\n",
    "# sorted_columns = sleep_start_location_pc.iloc[-1, :].sort_values(ascending=False).index\n",
    "sorted_columns = [\n",
    "    \"worn or held\",\n",
    "    \"bottle\",\n",
    "    \"on own in bed\",\n",
    "    \"next to carer\",\n",
    "    \"co sleep\",\n",
    "    \"stroller\",\n",
    "    \"car\",\n",
    "    np.nan,\n",
    "]\n",
    "sleep_start_location_pc = sleep_start_location_pc[sorted_columns]\n",
    "sleep_start_location_pc.shape"
   ]
  },
  {
   "cell_type": "code",
   "execution_count": null,
   "id": "68a2a514-37b4-482f-bbb4-84d986c485a7",
   "metadata": {},
   "outputs": [],
   "source": [
    "fig, ax = plt.subplots(1, 1, figsize=[8, 5])\n",
    "sleep_start_location_pc.plot(\n",
    "    ax=ax,\n",
    "    kind=\"bar\",\n",
    "    stacked=True,\n",
    "    width=1,\n",
    "    alpha=1,\n",
    "    linewidth=2,\n",
    "    edgecolor=\"white\",\n",
    "    cmap=\"Pastel2\",\n",
    ")\n",
    "ax.set_title(\"Sleep start location\")\n",
    "ax.set_ylabel(\"Percentage of sleep sessions (day and night)\")\n",
    "ax.set_xlabel(\"Week ending in\")\n",
    "ax.legend(bbox_to_anchor=[1, 1])\n",
    "ax.set_ylim(0, 100)\n",
    "ax.set_xlim(-0.5, sleep_start_location_pc.shape[0] - 0.5)\n",
    "ax.yaxis.set_major_formatter(mtick.PercentFormatter())\n",
    "ax.yaxis.set_major_locator(mtick.MultipleLocator(10))\n",
    "ax.yaxis.set_minor_locator(mtick.MultipleLocator(5))\n",
    "ax.grid(color=\"k\", alpha=0.15, axis=\"y\", which=\"both\")\n",
    "fig.tight_layout()"
   ]
  },
  {
   "cell_type": "code",
   "execution_count": null,
   "id": "f2f8639d-faff-4b0e-a548-4f5ab49a4442",
   "metadata": {},
   "outputs": [],
   "source": [
    "fig, ax = plt.subplots(1, 1, figsize=[5, 5])\n",
    "sleep_start_location.sum().sort_values(ascending=False).plot(\n",
    "    ax=ax,\n",
    "    kind=\"pie\",\n",
    "    cmap=\"Blues\",\n",
    "    autopct=\"%.0f%%\",\n",
    "    startangle=0,\n",
    ")\n",
    "ax.set_ylabel(\"\")\n",
    "ax.set_title(\"Sleep start location (day and night)\")\n",
    "fig.tight_layout()"
   ]
  },
  {
   "cell_type": "markdown",
   "id": "49f30115-68ae-4497-aab5-3fb2020859cd",
   "metadata": {},
   "source": [
    "# Solids data"
   ]
  },
  {
   "cell_type": "code",
   "execution_count": null,
   "id": "1de554a6-060d-485e-8a15-1a3bc67c4ba7",
   "metadata": {},
   "outputs": [],
   "source": [
    "solids_data = data[data[\"Type\"] == \"Solids\"].copy()\n",
    "solids_data = solids_data[[\"Start\", \"Start Condition\"]]\n",
    "solids_data[\"Food\"] = solids_data[\"Start Condition\"].str.lower().str.split(\", \")\n",
    "solids_data = solids_data.explode(\"Food\")\n",
    "solids_data[\"Bool\"] = True\n",
    "solids_data.head()"
   ]
  },
  {
   "cell_type": "markdown",
   "id": "4bf93783-071f-4e9d-9089-31fbdb6d69a4",
   "metadata": {},
   "source": [
    "## Timeline of foods"
   ]
  },
  {
   "cell_type": "code",
   "execution_count": null,
   "id": "7bf2bb25-64f7-4021-a90e-7f7a08d1c57b",
   "metadata": {},
   "outputs": [],
   "source": [
    "solids_heatmap = solids_data.pivot(index=\"Food\", columns=\"Start\", values=\"Bool\")\n",
    "solids_heatmap = solids_heatmap.sort_values(\n",
    "    list(solids_heatmap.columns), ascending=False\n",
    ")\n",
    "solids_heatmap = solids_heatmap.T.resample(\"D\").max().T.astype(float).fillna(0)\n",
    "solids_heatmap.columns = solids_heatmap.columns.date\n",
    "solids_heatmap.shape"
   ]
  },
  {
   "cell_type": "code",
   "execution_count": null,
   "id": "b05934ad-e916-434f-bc7c-e76feb0bf436",
   "metadata": {},
   "outputs": [],
   "source": [
    "fig, ax = plt.subplots(1, 1, figsize=[8, 5])\n",
    "sns.heatmap(\n",
    "    solids_heatmap,\n",
    "    cmap=\"Greens\",\n",
    "    vmin=0,\n",
    "    vmax=1.5,\n",
    "    cbar=False,\n",
    "    square=True,\n",
    "    linewidth=1,\n",
    ")\n",
    "ax.set_title(\"Weaning Chart\")\n",
    "ax.set_xlabel(\"Date\")\n",
    "fig.tight_layout()"
   ]
  },
  {
   "cell_type": "markdown",
   "id": "567c0657-9a66-4237-9a53-d606f54ad827",
   "metadata": {},
   "source": [
    "## Number of times each food has been tried"
   ]
  },
  {
   "cell_type": "code",
   "execution_count": null,
   "id": "8fc0087a-ef0b-4ee2-a81a-2dc3a3824f4a",
   "metadata": {},
   "outputs": [],
   "source": [
    "solids_counts = solids_heatmap.sum(axis=1)\n",
    "solids_counts.name = \"Times tried\""
   ]
  },
  {
   "cell_type": "code",
   "execution_count": null,
   "id": "b16dcb9a-4031-4fc2-9759-0fd20d51486f",
   "metadata": {},
   "outputs": [],
   "source": [
    "fig, axes = plt.subplots(1, 3, figsize=[8, 4])\n",
    "kwargs = {\n",
    "    \"kind\": \"barh\",\n",
    "    \"color\": \"forestgreen\",\n",
    "    \"width\": 0.85,\n",
    "    \"alpha\": 0.7,\n",
    "}\n",
    "\n",
    "ax = axes[0]\n",
    "solids_counts.plot(ax=ax, **kwargs)\n",
    "ax.invert_yaxis()\n",
    "ax.set_title(\"Order of introduction\", fontsize=10)\n",
    "\n",
    "ax = axes[1]\n",
    "solids_counts.sort_values().plot(ax=ax, **kwargs)\n",
    "ax.set_title(\"By number of times tried\", fontsize=10)\n",
    "\n",
    "ax = axes[2]\n",
    "solids_counts.sort_index(ascending=False).plot(ax=ax, **kwargs)\n",
    "ax.set_title(\"Alphabetical order\", fontsize=10)\n",
    "\n",
    "for ax in axes:\n",
    "    ax.set_ylabel(\"\")\n",
    "    ax.set_xlabel(\"Times tried\")\n",
    "    ax.grid(color=\"k\", alpha=0.2)\n",
    "    ax.set_xlim(0, 10)\n",
    "    for container in ax.containers:\n",
    "        ax.bar_label(container, fmt=\"%.0f\", padding=3, fontsize=8, alpha=0.8)\n",
    "fig.tight_layout()"
   ]
  },
  {
   "cell_type": "code",
   "execution_count": null,
   "id": "07b9dbce-f929-43c0-9d8b-4c12f1ee2613",
   "metadata": {},
   "outputs": [],
   "source": [
    "file_path = here() / \"data\" / \"processed\" / \"solids.csv\"\n",
    "solids_counts.sort_index().to_csv(file_path)"
   ]
  }
 ],
 "metadata": {
  "kernelspec": {
   "display_name": "Python 3 (ipykernel)",
   "language": "python",
   "name": "python3"
  },
  "language_info": {
   "codemirror_mode": {
    "name": "ipython",
    "version": 3
   },
   "file_extension": ".py",
   "mimetype": "text/x-python",
   "name": "python",
   "nbconvert_exporter": "python",
   "pygments_lexer": "ipython3",
   "version": "3.12.0"
  }
 },
 "nbformat": 4,
 "nbformat_minor": 5
}
